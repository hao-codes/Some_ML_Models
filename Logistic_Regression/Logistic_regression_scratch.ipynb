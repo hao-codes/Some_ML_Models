{
 "cells": [
  {
   "cell_type": "markdown",
   "metadata": {},
   "source": [
    "<h1 style=\"color:rgb(0,120,170)\">Logistic Regression from Scratch</h1>"
   ]
  },
  {
   "cell_type": "markdown",
   "metadata": {},
   "source": [
    "- Create dataset as csv file\n",
    "- Code of logistic gradient, cost function, numerical gradient, comparison\n",
    "- import file\n",
    "- run functions\n",
    "- plots of training & test sets\n",
    "- confusion matrix\n",
    "- evt. AUC & ROC"
   ]
  },
  {
   "cell_type": "code",
   "execution_count": 1,
   "metadata": {},
   "outputs": [],
   "source": [
    "import numpy as np\n",
    "from sklearn.metrics import roc_curve, auc\n",
    "from sklearn.utils import shuffle\n",
    "import matplotlib\n",
    "import matplotlib.pyplot as plt\n",
    "from IPython.utils import io\n",
    "from sklearn.datasets import make_classification\n",
    "\n",
    "RSEED = 101"
   ]
  },
  {
   "cell_type": "code",
   "execution_count": 2,
   "metadata": {},
   "outputs": [],
   "source": [
    "# create data matrix with n datapoints, d features\n",
    "# create label vector y with randomly generated values\n",
    "# create weight matrix w with randomly generated values\n",
    "np.random.seed(RSEED)\n",
    "n = 10\n",
    "d = 4\n",
    "X_random = np.random.normal(size=(n, d)).T\n",
    "y_random = np.random.randint(0, 2, size=(n,1))\n",
    "w_random = np.random.normal(size=(d))\n"
   ]
  },
  {
   "cell_type": "code",
   "execution_count": 3,
   "metadata": {
    "scrolled": true
   },
   "outputs": [],
   "source": [
    "#dataset = np.hstack((X_random, y_random))\n",
    "# np.savetxt('MY_EXAMPLE.csv', dataset, delimiter=',')"
   ]
  },
  {
   "cell_type": "code",
   "execution_count": 4,
   "metadata": {
    "scrolled": false
   },
   "outputs": [
    {
     "name": "stdout",
     "output_type": "stream",
     "text": [
      "(4, 10)\n"
     ]
    }
   ],
   "source": [
    "print(X_random.shape)"
   ]
  },
  {
   "cell_type": "markdown",
   "metadata": {},
   "source": [
    "The first function is just the sigmoid function which will be used several times later.\n",
    "\n",
    "The second function `logistic_gradient(w, x, y)` has a parameter vector $\\mathbf{w}$, a data matrix $\\mathbf{X}$ and a label vector $\\mathbf{y}$ as input and the gradient $\\frac{\\partial L}{\\partial\n",
    "\\mathbf{w}}$ is the output, where $L$ is the negative log-likelihood for the Bernoulli distribution, i.e. the cross-entropy loss"
   ]
  },
  {
   "cell_type": "code",
   "execution_count": 5,
   "metadata": {},
   "outputs": [],
   "source": [
    "\n",
    "def calc_sigmoid(x):\n",
    "    return 1 / (1 + np.exp(-x))\n",
    "\n",
    "\n",
    "\"\"\"\n",
    "Function that computes the logistic gradient.\n",
    "inputs:weights w, data matrix X, label vector y\n",
    "output:computed logistic gradient( array)\n",
    "\"\"\"\n",
    "def logistic_gradient(w, x, y):  \n",
    "    \n",
    "    gradient = np.zeros(shape=len(w)) #z is a linear function z = W.T *x_i\n",
    "    \n",
    "    for i in range(len(y)):\n",
    "        z = (w.T)@x[:,i]\n",
    "\n",
    "        sigmoid = calc_sigmoid(z)\n",
    "        # gradient array = (sigma_i-y)*x_i\n",
    "        gradient += (sigmoid-y[i])*x[:,i]\n",
    "    return gradient\n",
    "#gradient += (sigmoid-y[i])*x[:,i]"
   ]
  },
  {
   "cell_type": "code",
   "execution_count": 6,
   "metadata": {},
   "outputs": [],
   "source": [
    "\"\"\" The next function should compute the cross-entropy loss.\n",
    "The inputs are the same as the first, the output is the cross-entropy loss(float value)\n",
    "\n",
    "\"\"\"\n",
    "def cost(w, x, y):\n",
    "    costs = 0\n",
    "    for i in range(0, len(y)):    \n",
    "    #z = np.transpose(w) * x[i,:]\n",
    "        z = (w.T)@x[:,i]\n",
    "        model = calc_sigmoid(z)\n",
    "    # add cost of points with label 1\n",
    "        #print(f\"y: {y[i]}\")\n",
    "        if y[i] == 1:\n",
    "            costs += (-1)* np.log(model)\n",
    "    # add cost of points with label 0 \n",
    "        elif y[i] == 0:\n",
    "            costs += (-1)* np.log(1-model)\n",
    " \n",
    "    return costs"
   ]
  },
  {
   "cell_type": "markdown",
   "metadata": {},
   "source": [
    "To check if the function logistic_gradient works, it is tested via Gradient Checking. To do so, another function numerical_gradiend is implemented. It calculates the gradient numerically via the central difference quotient, using $\\epsilon = 10^{-4}$ and then compared with the logistic gradient.\n",
    "\n",
    "The inputs for the function are the same(weights w, data matrix x, label vector y)\n",
    "Output: computed numerical gradient(array)"
   ]
  },
  {
   "cell_type": "code",
   "execution_count": 7,
   "metadata": {
    "scrolled": true
   },
   "outputs": [],
   "source": [
    "\n",
    "def numerical_gradient(w, x, y):\n",
    "    #raise NotImplementedError(\"You have not implemented this function\")\n",
    "    # calculates the gradient numerically via the central difference quotient, using\n",
    "    # epsilon=10^−4  as suggested in the lecture slides.\n",
    "    epsilon =  10**(-4)\n",
    "    dw = []\n",
    "\n",
    "    e_vector = np.zeros(shape = len(w))\n",
    "    for i in range(0, len(w)):\n",
    "        e_vector[i] = epsilon\n",
    "        e_vector = np.transpose(e_vector)\n",
    "        \n",
    "        # (L(.;W+ epsilon*e) − L(.;W−epsilon*eij)) / (2 epsilon)\n",
    "        loss1 = cost(w + e_vector,x ,y)\n",
    "        loss2 = cost(w - e_vector,x ,y)\n",
    "        \n",
    "        diff_quotient = (loss1-loss2)/(2*epsilon)\n",
    "        \n",
    "        dw.append(diff_quotient)\n",
    "        \n",
    "        e_vector[i] = 0\n",
    "        #dw = dw/10 \n",
    "    dw = np.array(dw)\n",
    "    return dw"
   ]
  },
  {
   "cell_type": "code",
   "execution_count": 8,
   "metadata": {},
   "outputs": [],
   "source": [
    "# A comparison function to see if the two gradients differ a lot from each other\n",
    "\n",
    "def comparison(a,b):\n",
    "    # comparison(a,b) which checks whether the inputs  𝑎  and  𝑏 \n",
    "    # don't deviate more than 1e-09 from each other\n",
    "    # absolute(a - b) <= (atol + rtol * absolute(b))\n",
    "    comp = np.allclose(a, b, rtol=0, atol =1e-08,)\n",
    "    return comp"
   ]
  },
  {
   "cell_type": "code",
   "execution_count": 9,
   "metadata": {
    "scrolled": false
   },
   "outputs": [
    {
     "name": "stdout",
     "output_type": "stream",
     "text": [
      "X = [[ 2.70684984  0.65111795 -2.01816824  0.18869531  0.19079432  0.30266545\n",
      "  -0.13484072  0.80770591 -0.49710402 -0.11677332]\n",
      " [ 0.62813271 -0.31931804  0.74012206 -0.75887206  1.97875732  1.69372293\n",
      "   0.39052784  0.07295968 -0.7540697   1.9017548 ]\n",
      " [ 0.90796945 -0.84807698  0.52881349 -0.93323722  2.60596728 -1.70608593\n",
      "   0.16690464  0.63878701 -0.9434064   0.23812696]\n",
      " [ 0.50382575  0.60596535 -0.58900053  0.95505651  0.68350889 -1.15911942\n",
      "   0.18450186  0.3296463   0.48475165  1.99665229]] \n",
      "\n",
      "w =  [-0.2299375  -1.28359884 -2.71119174 -1.52241044] \n",
      "\n",
      "Logistic gradient:\n",
      " [-1.15747131 -4.1782395  -3.22774326 -2.49369429] \n",
      "\n",
      "Numerical gradient:\n",
      " [-1.15747131 -4.1782395  -3.22774326 -2.49369429] \n",
      "\n",
      "Difference smaller than 1e-09:  True\n"
     ]
    }
   ],
   "source": [
    "# Now th gradients are computed and compared on our small dataset\n",
    "\n",
    "print(\"X =\",X_random,\"\\n\")\n",
    "# print(\"y =\",y_random,\"\\n\")\n",
    "print(\"w = \",w_random,\"\\n\")\n",
    "print(\"Logistic gradient:\\n\",logistic_gradient(w_random,X_random,y_random),\"\\n\")\n",
    "print(\"Numerical gradient:\\n\",numerical_gradient(w_random,X_random,y_random),\"\\n\")\n",
    "print(\"Difference smaller than 1e-09: \",comparison(logistic_gradient(w_random,X_random,y_random),numerical_gradient(w_random,X_random,y_random)))"
   ]
  },
  {
   "cell_type": "markdown",
   "metadata": {},
   "source": [
    "The next functtion`fitLogRegModel(x_train, y_train, eta=1e-4, max_iter=1e5)` uses Logistic Regression with Gradient Descent to train classifiers on the training set. The inital weights are randomly chosen. The learning rate is set to $10^{-4}$ and the maximum number of iterations is $1e5$(= 100 000). The function stops when the difference between the loss of the last iteration step and the current loss is less than $\\eta$.\n",
    "The function returns the model weights(np.array) and the number of iterations used while training."
   ]
  },
  {
   "cell_type": "code",
   "execution_count": 10,
   "metadata": {},
   "outputs": [],
   "source": [
    "\"\"\"\n",
    "Function trains a Logistic Regression Model with Gradient Descent.\n",
    "Input: x_train, y_train, eta(learning rate), max_iter, seed for random initialization of the weights\n",
    "Output: weights(array), number of iterations(int)\n",
    "\"\"\"\n",
    "def fitLogRegModel(x_train, y_train, eta=1e-4, max_iter=100000,seed=RSEED):\n",
    "    # w0 = initial guess for w\n",
    "    #w_n+1 = w_n + eta * dL/dW\n",
    "    \n",
    "    np.random.seed(seed)\n",
    "    w_zero = np.random.uniform(low=-1, high=1, size= x_train.shape[0])\n",
    "    cost_zero = cost(w_zero, x_train, y_train)\n",
    "    \n",
    "    iterations = 0\n",
    "    while iterations < max_iter:\n",
    "        iterations +=1 \n",
    "        #dL/dW\n",
    "        #cost_zero = cost(w_zero, x_train, y_train)\n",
    "        gradient_zero = logistic_gradient(w_zero, x_train, y_train)\n",
    "        \n",
    "        w_new = w_zero - (eta * gradient_zero)\n",
    "        #gradient_new = logistic_gradient(w_new, x_train, y_train)\n",
    "        cost_new = cost(w_new, x_train, y_train)\n",
    "        if iterations % 1000 == 0:\n",
    "            print(f\"Loss at iteration {iterations}: {cost_new}\")\n",
    "        w_zero = w_new\n",
    "        \n",
    "        if np.absolute(cost_zero-cost_new) < eta:\n",
    "            break\n",
    "        cost_zero = cost_new\n",
    "    \n",
    "    w = w_new\n",
    "    \n",
    "    return w,iterations"
   ]
  },
  {
   "cell_type": "markdown",
   "metadata": {},
   "source": [
    "The last function`predictLogReg(w, x)` returns the prediction for the a parameter vector $\\mathbf{w}$ and feature vector $\\mathbf{x}$ (np.array)"
   ]
  },
  {
   "cell_type": "code",
   "execution_count": 11,
   "metadata": {},
   "outputs": [],
   "source": [
    "\"\"\"\n",
    "Input: weights, data matrix\n",
    "output: predictions(array)\n",
    "\"\"\"\n",
    "def predictLogReg(w, x):\n",
    "    #np.random.seed(RSEED)\n",
    "    x = x.T\n",
    "    predictions=[]\n",
    "    for i in range(x.shape[0]):\n",
    "        z = np.dot(np.transpose(w), x[i,:])\n",
    "        prediction = calc_sigmoid(z)\n",
    "       #print(prediction)\n",
    "        predictions.append(prediction)\n",
    "    pred = np.array(predictions)\n",
    "    return pred"
   ]
  },
  {
   "cell_type": "markdown",
   "metadata": {},
   "source": [
    "Next, a larger dataset is loaded and split into training and test set( 0.5). I am aware that a 0.5 split is not used normally in machine learning, here it is just used to have a nicer graphical representation at the end)\n",
    "It can be adjusted to any other split like 0.2/0.8, etc.\n",
    "\n",
    "Alternatively, a new dataset could be created with make_classification\n"
   ]
  },
  {
   "cell_type": "code",
   "execution_count": 12,
   "metadata": {},
   "outputs": [],
   "source": [
    "# X, y = make_classification(n_samples=500, n_features=3, n_redundant=0, n_informative=2,\n",
    "#                              n_clusters_per_class=2,flip_y= 0.1, random_state=42)\n",
    "\n",
    "# y = y[:,np.newaxis]"
   ]
  },
  {
   "cell_type": "code",
   "execution_count": 13,
   "metadata": {},
   "outputs": [
    {
     "name": "stderr",
     "output_type": "stream",
     "text": [
      "/tmp/ipykernel_36559/4125270327.py:14: DeprecationWarning: `np.int` is a deprecated alias for the builtin `int`. To silence this warning, use `int` by itself. Doing this will not modify any behavior and is safe. When replacing `np.int`, you may wish to use e.g. `np.int64` or `np.int32` to specify the precision. If you wish to review your current use, check the release note link for additional information.\n",
      "Deprecated in NumPy 1.20; for more details and guidance: https://numpy.org/devdocs/release/1.20.0-notes.html#deprecations\n",
      "  X_train=X[:np.int(X.shape[0]/2)]\n",
      "/tmp/ipykernel_36559/4125270327.py:15: DeprecationWarning: `np.int` is a deprecated alias for the builtin `int`. To silence this warning, use `int` by itself. Doing this will not modify any behavior and is safe. When replacing `np.int`, you may wish to use e.g. `np.int64` or `np.int32` to specify the precision. If you wish to review your current use, check the release note link for additional information.\n",
      "Deprecated in NumPy 1.20; for more details and guidance: https://numpy.org/devdocs/release/1.20.0-notes.html#deprecations\n",
      "  X_test=X[np.int(X.shape[0]/2):]\n",
      "/tmp/ipykernel_36559/4125270327.py:16: DeprecationWarning: `np.int` is a deprecated alias for the builtin `int`. To silence this warning, use `int` by itself. Doing this will not modify any behavior and is safe. When replacing `np.int`, you may wish to use e.g. `np.int64` or `np.int32` to specify the precision. If you wish to review your current use, check the release note link for additional information.\n",
      "Deprecated in NumPy 1.20; for more details and guidance: https://numpy.org/devdocs/release/1.20.0-notes.html#deprecations\n",
      "  y_train=y[:np.int(len(y)/2)]\n",
      "/tmp/ipykernel_36559/4125270327.py:17: DeprecationWarning: `np.int` is a deprecated alias for the builtin `int`. To silence this warning, use `int` by itself. Doing this will not modify any behavior and is safe. When replacing `np.int`, you may wish to use e.g. `np.int64` or `np.int32` to specify the precision. If you wish to review your current use, check the release note link for additional information.\n",
      "Deprecated in NumPy 1.20; for more details and guidance: https://numpy.org/devdocs/release/1.20.0-notes.html#deprecations\n",
      "  y_test=y[np.int(len(y)/2):]\n"
     ]
    },
    {
     "data": {
      "image/png": "[encoded data removed]",
      "text/plain": [
       "<Figure size 432x288 with 1 Axes>"
      ]
     },
     "metadata": {
      "needs_background": "light"
     },
     "output_type": "display_data"
    }
   ],
   "source": [
    "# Read data, split into X(features) and y(labels)\n",
    "\n",
    "Z = np.genfromtxt('DataSet_LR_a.csv', delimiter=',',skip_header=1)\n",
    "X, y = Z[:,:-1], Z[:,-1]\n",
    "X = np.hstack((np.ones((X.shape[0],1)),X))   #prepend ones for intercept\n",
    "\n",
    "# Plot data distribution\n",
    "color= ['red' if elem==1 else 'blue' for elem in y ]\n",
    "plt.scatter(X[:,1], X[:,2], c=color)\n",
    "plt.xlabel('x1')\n",
    "plt.ylabel('x2')\n",
    "plt.title('Complete dataset')\n",
    "# Split into test and training set\n",
    "X_train=X[:np.int(X.shape[0]/2)]\n",
    "X_test=X[np.int(X.shape[0]/2):]\n",
    "y_train=y[:np.int(len(y)/2)]\n",
    "y_test=y[np.int(len(y)/2):]\n"
   ]
  },
  {
   "cell_type": "code",
   "execution_count": 14,
   "metadata": {
    "scrolled": false
   },
   "outputs": [
    {
     "name": "stdout",
     "output_type": "stream",
     "text": [
      "Loss at iteration 1000: 35.447820681270656\n",
      "Loss at iteration 2000: 33.16546926191789\n",
      "Loss at iteration 3000: 31.315624468533656\n",
      "Loss at iteration 4000: 29.7735336955794\n",
      "Loss at iteration 5000: 28.47651491326164\n",
      "Loss at iteration 6000: 27.376443126965757\n",
      "Loss at iteration 7000: 26.435980868194743\n",
      "Loss at iteration 8000: 25.625987787362334\n",
      "Loss at iteration 9000: 24.92355169957018\n",
      "Loss at iteration 10000: 24.310510177639397\n",
      "Loss at iteration 11000: 23.772345046839746\n",
      "Loss at iteration 12000: 23.29735463920743\n",
      "Loss at iteration 13000: 22.876031267924144\n",
      "Loss at iteration 14000: 22.500590127504847\n",
      "Loss at iteration 15000: 22.16461022240179\n",
      "Loss at iteration 16000: 21.862758589868623\n",
      "Loss at iteration 17000: 21.590576844996793\n",
      "Loss at iteration 18000: 21.344314685589328\n",
      "Loss at iteration 19000: 21.12079904339219\n",
      "Loss at iteration 20000: 20.91733049684731\n",
      "Loss at iteration 21000: 20.731600688045383\n",
      "Loss at iteration 22000: 20.561626040759823\n",
      "Loss at iteration 23000: 20.40569421905156\n",
      "Loss at iteration 24000: 20.262320611638255\n",
      "Loss at iteration 25000: 20.13021275751375\n",
      "Loss at iteration 26000: 20.00824110133277\n",
      "Loss at iteration 27000: 19.895414824524394\n",
      "Loss at iteration 28000: 19.790861770041182\n",
      "The learnt weights are: w =[-2.16566333  6.14959353 -1.41914419] at iteration 28092\n"
     ]
    }
   ],
   "source": [
    "# now the optimal weights are computed via Logistic Regression & gradient descent\n",
    "weights,n_iterations = fitLogRegModel(X_train.T,y_train)\n",
    "print(f'The learnt weights are: w ={weights} at iteration {n_iterations}')"
   ]
  },
  {
   "cell_type": "code",
   "execution_count": 15,
   "metadata": {},
   "outputs": [],
   "source": [
    "# now the predictLogReg is used with the learnt on the training and test set\n",
    "prediction_train = predictLogReg(weights,X_train.T)\n",
    "prediction_test = predictLogReg(weights,X_test.T)"
   ]
  },
  {
   "cell_type": "markdown",
   "metadata": {},
   "source": [
    "Next, the training and test set are plotted and their predictions as well."
   ]
  },
  {
   "cell_type": "code",
   "execution_count": 16,
   "metadata": {},
   "outputs": [
    {
     "data": {
      "text/plain": [
       "<Figure size 432x288 with 0 Axes>"
      ]
     },
     "metadata": {},
     "output_type": "display_data"
    },
    {
     "data": {
      "image/png": "[encoded data removed]",
      "text/plain": [
       "<Figure size 864x720 with 4 Axes>"
      ]
     },
     "metadata": {
      "needs_background": "light"
     },
     "output_type": "display_data"
    }
   ],
   "source": [
    "\n",
    "fig = plt.figure()\n",
    "fig = plt.figure(figsize = (12,10))\n",
    "plt.subplot(2, 2, 1)\n",
    "color= ['red' if elem>0.5 else 'blue' for elem in y_train ]\n",
    "plt.scatter(X_train[:,1], X_train[:,2], c=color,label='the data')\n",
    "plt.xlabel('x1')\n",
    "plt.ylabel('x2')\n",
    "plt.title('Training dataset')\n",
    "\n",
    "plt.subplot(2, 2, 2)\n",
    "color= ['red' if elem>0.5 else 'blue' for elem in prediction_train ]\n",
    "plt.scatter(X_train[:,1], X_train[:,2], c=color,label='the data')\n",
    "plt.xlabel('x1')\n",
    "plt.ylabel('x2')\n",
    "plt.title('Training dataset - predictions')\n",
    "\n",
    "plt.subplot(2, 2, 3)\n",
    "color= ['red' if elem>0.5 else 'blue' for elem in y_test ]\n",
    "plt.scatter(X_test[:,1], X_test[:,2], c=color,label='the data')\n",
    "plt.xlabel('x1')\n",
    "plt.ylabel('x2')\n",
    "plt.title('Test dataset')\n",
    "\n",
    "plt.subplot(2, 2, 4)\n",
    "color= ['red' if elem>0.5 else 'blue' for elem in prediction_test ]\n",
    "plt.scatter(X_test[:,1], X_test[:,2], c=color,label='the data')\n",
    "plt.xlabel('x1')\n",
    "plt.ylabel('x2')\n",
    "plt.title('Test dataset - predictions')\n",
    "\n",
    "fig.tight_layout()"
   ]
  },
  {
   "cell_type": "markdown",
   "metadata": {},
   "source": [
    "In the last part, the confusion matrix, accuracy and the balanced accuracy is computed."
   ]
  },
  {
   "cell_type": "code",
   "execution_count": 17,
   "metadata": {
    "scrolled": true
   },
   "outputs": [],
   "source": [
    "\"\"\"\n",
    "Function that computes the predictions for Logistic regression.\n",
    "Input: predictions, true_labels\n",
    "\n",
    "Output: positives, negatives, true positives, true negatives, false positives, false negatives,\n",
    "accuracy, balanced, accuracy\n",
    "\"\"\"\n",
    "def confusion_matrix_acc(predictions,true_labels,threshold=0.5):\n",
    "    #replace prediction values with 1 and 0\n",
    "    predictions[predictions >= threshold] = 1\n",
    "    predictions[predictions < threshold] = 0\n",
    "    \n",
    "    pos = len(true_labels[true_labels == 1])\n",
    "    neg = len(true_labels[true_labels == 0])\n",
    "    \n",
    "    tp = np.sum((np.int64(predictions> threshold)== true_labels)* true_labels)\n",
    "    tn = np.sum((np.int64(predictions> threshold)== true_labels)* (1-true_labels))\n",
    "    \n",
    "    fp = np.sum((np.int64(predictions> threshold)!= true_labels)* (1-true_labels))\n",
    "    fn = np.sum((np.int64(predictions> threshold)!= true_labels)* true_labels)\n",
    "    \n",
    "    \n",
    "#     tp = np.sum(np.logical_and(predictions == 1, true_labels == 1))\n",
    "#     tn = np.sum(np.logical_and(predictions== 0, true_labels == 0))\n",
    "     \n",
    "#     fp = np.sum(np.logical_and(predictions== 1, true_labels == 0))\n",
    "#     fn = np.sum(np.logical_and(predictions== 0, true_labels == 1))\n",
    "    \n",
    "    acc = (tp + tn)/(pos + neg)\n",
    "    tpr = tp / pos\n",
    "    #print(tpr)\n",
    "    if neg == 0:\n",
    "        tnr = 0\n",
    "    else:\n",
    "        tnr = tn / neg\n",
    "    # bacc = (TPR+TNR)/2\n",
    "    balanced_acc = (tpr+tnr)/2\n",
    "    return (pos,neg,tp,tn,fp,fn,acc,balanced_acc)"
   ]
  },
  {
   "cell_type": "code",
   "execution_count": 18,
   "metadata": {},
   "outputs": [
    {
     "name": "stdout",
     "output_type": "stream",
     "text": [
      "Traininig set:\n",
      "\n",
      "Positive samples: 34\n",
      "Negative samples: 26\n",
      "True positives: 32.0\n",
      "True negatives: 21.0\n",
      "False positives: 5.0\n",
      "False negatives: 2.0\n",
      "Accuracy: 0.8833333333333333\n",
      "Balanced accuray: 0.8744343891402715\n",
      "\n",
      "Test set:\n",
      "\n",
      "Positive samples: 26\n",
      "Negative samples: 34\n",
      "True positives: 26.0\n",
      "True negatives: 26.0\n",
      "False positives: 8.0\n",
      "False negatives: 0.0\n",
      "Accuracy: 0.8666666666666667\n",
      "Balanced accuray: 0.8823529411764706\n"
     ]
    }
   ],
   "source": [
    "pos_train,neg_train,tp_train,tn_train,fp_train,fn_train,acc_train,balanced_acc_train=confusion_matrix_acc(prediction_train,y_train)\n",
    "print(\"Traininig set:\\n\")\n",
    "print(\"Positive samples: {}\\nNegative samples: {}\\nTrue positives: {}\\nTrue negatives: {}\\nFalse positives: {}\\nFalse negatives: {}\\nAccuracy: {}\\nBalanced accuray: {}\\n\".format(pos_train,neg_train,tp_train,tn_train,fp_train,fn_train,acc_train,balanced_acc_train))\n",
    "pos_test,neg_test,tp_test,tn_test,fp_test,fn_test,acc_test,balanced_acc_test=confusion_matrix_acc(prediction_test,y_test)\n",
    "print(\"Test set:\\n\")\n",
    "print(\"Positive samples: {}\\nNegative samples: {}\\nTrue positives: {}\\nTrue negatives: {}\\nFalse positives: {}\\nFalse negatives: {}\\nAccuracy: {}\\nBalanced accuray: {}\".format(pos_test,neg_test,tp_test,tn_test,fp_test,fn_test,acc_test,balanced_acc_test))"
   ]
  }
 ],
 "metadata": {
  "celltoolbar": "Tags",
  "kernelspec": {
   "display_name": "Python 3 (ipykernel)",
   "language": "python",
   "name": "python3"
  },
  "language_info": {
   "codemirror_mode": {
    "name": "ipython",
    "version": 3
   },
   "file_extension": ".py",
   "mimetype": "text/x-python",
   "name": "python",
   "nbconvert_exporter": "python",
   "pygments_lexer": "ipython3",
   "version": "3.8.10"
  }
 },
 "nbformat": 4,
 "nbformat_minor": 4
}
